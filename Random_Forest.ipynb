{
  "nbformat": 4,
  "nbformat_minor": 0,
  "metadata": {
    "colab": {
      "name": "Random_Forest.ipynb",
      "provenance": [],
      "collapsed_sections": [],
      "authorship_tag": "ABX9TyOZ81OzDfVIoz1KynzmZHJl",
      "include_colab_link": true
    },
    "kernelspec": {
      "name": "python3",
      "display_name": "Python 3"
    }
  },
  "cells": [
    {
      "cell_type": "markdown",
      "metadata": {
        "id": "view-in-github",
        "colab_type": "text"
      },
      "source": [
        "<a href=\"https://colab.research.google.com/github/AbineshKannan/Final-Year-Project/blob/master/Random_Forest.ipynb\" target=\"_parent\"><img src=\"https://colab.research.google.com/assets/colab-badge.svg\" alt=\"Open In Colab\"/></a>"
      ]
    },
    {
      "cell_type": "markdown",
      "metadata": {
        "id": "G2N10wq1hSTb",
        "colab_type": "text"
      },
      "source": [
        "To Import Data and print first 10 Values"
      ]
    },
    {
      "cell_type": "code",
      "metadata": {
        "id": "CTbApC9tdz1h",
        "colab_type": "code",
        "colab": {
          "base_uri": "https://localhost:8080/",
          "height": 489
        },
        "outputId": "122b3c3c-f755-4556-aa5c-854da5b99e56"
      },
      "source": [
        "import numpy as np  \n",
        "import matplotlib.pyplot as plt\n",
        "import pandas as pd\n",
        "\n",
        "# Read the data\n",
        "data = pd.read_csv(\"/links.csv\")\n",
        "print(data.head(10))\n",
        "print(data.tail(10))"
      ],
      "execution_count": 3,
      "outputs": [
        {
          "output_type": "stream",
          "text": [
            "   index  having_IPhaving_IP_Address  ...  Statistical_report  Result\n",
            "0      1                          -1  ...                  -1      -1\n",
            "1      2                           1  ...                   1      -1\n",
            "2      3                           1  ...                  -1      -1\n",
            "3      4                           1  ...                   1      -1\n",
            "4      5                           1  ...                   1       1\n",
            "5      6                          -1  ...                  -1       1\n",
            "6      7                           1  ...                  -1      -1\n",
            "7      8                           1  ...                   1      -1\n",
            "8      9                           1  ...                   1       1\n",
            "9     10                           1  ...                   1      -1\n",
            "\n",
            "[10 rows x 32 columns]\n",
            "       index  having_IPhaving_IP_Address  ...  Statistical_report  Result\n",
            "11045  11046                           1  ...                   1       1\n",
            "11046  11047                          -1  ...                   1       1\n",
            "11047  11048                          -1  ...                   1      -1\n",
            "11048  11049                           1  ...                   1       1\n",
            "11049  11050                          -1  ...                   1      -1\n",
            "11050  11051                           1  ...                   1       1\n",
            "11051  11052                          -1  ...                   1      -1\n",
            "11052  11053                           1  ...                   1      -1\n",
            "11053  11054                          -1  ...                   1      -1\n",
            "11054  11055                          -1  ...                  -1      -1\n",
            "\n",
            "[10 rows x 32 columns]\n"
          ],
          "name": "stdout"
        }
      ]
    },
    {
      "cell_type": "markdown",
      "metadata": {
        "id": "konuor-BfC8u",
        "colab_type": "text"
      },
      "source": [
        "Thus Checking Data Structure\n"
      ]
    },
    {
      "cell_type": "code",
      "metadata": {
        "trusted": true,
        "id": "nvKKWW6Natyy",
        "colab_type": "code",
        "colab": {
          "base_uri": "https://localhost:8080/",
          "height": 53
        },
        "outputId": "8c568ec1-7633-485b-d6dc-0e6e18f04834"
      },
      "source": [
        "print(data.shape)\n",
        "print(\"(row,column)\")"
      ],
      "execution_count": 4,
      "outputs": [
        {
          "output_type": "stream",
          "text": [
            "(11055, 32)\n",
            "row,column\n"
          ],
          "name": "stdout"
        }
      ]
    },
    {
      "cell_type": "markdown",
      "metadata": {
        "id": "dbMgj2MifUWS",
        "colab_type": "text"
      },
      "source": [
        "There are 30 Features Extracted from a Url"
      ]
    },
    {
      "cell_type": "code",
      "metadata": {
        "id": "fjRDDwhUfGzO",
        "colab_type": "code",
        "colab": {
          "base_uri": "https://localhost:8080/",
          "height": 744
        },
        "outputId": "e08046bf-8408-4912-aec3-78d57cc54b6a"
      },
      "source": [
        "print(data.info())"
      ],
      "execution_count": 6,
      "outputs": [
        {
          "output_type": "stream",
          "text": [
            "<class 'pandas.core.frame.DataFrame'>\n",
            "RangeIndex: 11055 entries, 0 to 11054\n",
            "Data columns (total 32 columns):\n",
            " #   Column                       Non-Null Count  Dtype\n",
            "---  ------                       --------------  -----\n",
            " 0   index                        11055 non-null  int64\n",
            " 1   having_IPhaving_IP_Address   11055 non-null  int64\n",
            " 2   URLURL_Length                11055 non-null  int64\n",
            " 3   Shortining_Service           11055 non-null  int64\n",
            " 4   having_At_Symbol             11055 non-null  int64\n",
            " 5   double_slash_redirecting     11055 non-null  int64\n",
            " 6   Prefix_Suffix                11055 non-null  int64\n",
            " 7   having_Sub_Domain            11055 non-null  int64\n",
            " 8   SSLfinal_State               11055 non-null  int64\n",
            " 9   Domain_registeration_length  11055 non-null  int64\n",
            " 10  Favicon                      11055 non-null  int64\n",
            " 11  port                         11055 non-null  int64\n",
            " 12  HTTPS_token                  11055 non-null  int64\n",
            " 13  Request_URL                  11055 non-null  int64\n",
            " 14  URL_of_Anchor                11055 non-null  int64\n",
            " 15  Links_in_tags                11055 non-null  int64\n",
            " 16  SFH                          11055 non-null  int64\n",
            " 17  Submitting_to_email          11055 non-null  int64\n",
            " 18  Abnormal_URL                 11055 non-null  int64\n",
            " 19  Redirect                     11055 non-null  int64\n",
            " 20  on_mouseover                 11055 non-null  int64\n",
            " 21  RightClick                   11055 non-null  int64\n",
            " 22  popUpWidnow                  11055 non-null  int64\n",
            " 23  Iframe                       11055 non-null  int64\n",
            " 24  age_of_domain                11055 non-null  int64\n",
            " 25  DNSRecord                    11055 non-null  int64\n",
            " 26  web_traffic                  11055 non-null  int64\n",
            " 27  Page_Rank                    11055 non-null  int64\n",
            " 28  Google_Index                 11055 non-null  int64\n",
            " 29  Links_pointing_to_page       11055 non-null  int64\n",
            " 30  Statistical_report           11055 non-null  int64\n",
            " 31  Result                       11055 non-null  int64\n",
            "dtypes: int64(32)\n",
            "memory usage: 2.7 MB\n",
            "None\n"
          ],
          "name": "stdout"
        }
      ]
    },
    {
      "cell_type": "markdown",
      "metadata": {
        "id": "pybnaSbifyEG",
        "colab_type": "text"
      },
      "source": [
        "To Check the data's Staticial Approach\n",
        "\n",
        "75 percent belongs to label 1(phishing)"
      ]
    },
    {
      "cell_type": "code",
      "metadata": {
        "id": "VAdM1KoJffNj",
        "colab_type": "code",
        "colab": {
          "base_uri": "https://localhost:8080/",
          "height": 217
        },
        "outputId": "bca4c5f8-3671-46a4-d424-948dcae0d1a3"
      },
      "source": [
        "print(data.describe())"
      ],
      "execution_count": 7,
      "outputs": [
        {
          "output_type": "stream",
          "text": [
            "              index  ...        Result\n",
            "count  11055.000000  ...  11055.000000\n",
            "mean    5528.000000  ...      0.113885\n",
            "std     3191.447947  ...      0.993539\n",
            "min        1.000000  ...     -1.000000\n",
            "25%     2764.500000  ...     -1.000000\n",
            "50%     5528.000000  ...      1.000000\n",
            "75%     8291.500000  ...      1.000000\n",
            "max    11055.000000  ...      1.000000\n",
            "\n",
            "[8 rows x 32 columns]\n"
          ],
          "name": "stdout"
        }
      ]
    },
    {
      "cell_type": "markdown",
      "metadata": {
        "id": "S-L3GgDVggfs",
        "colab_type": "text"
      },
      "source": [
        "To check for Duplicate or null values"
      ]
    },
    {
      "cell_type": "code",
      "metadata": {
        "id": "J-rLkWG1gKmP",
        "colab_type": "code",
        "colab": {
          "base_uri": "https://localhost:8080/",
          "height": 617
        },
        "outputId": "97439612-218b-40ad-a11f-50211543512f"
      },
      "source": [
        "print(data.isnull().sum())"
      ],
      "execution_count": 9,
      "outputs": [
        {
          "output_type": "stream",
          "text": [
            "index                          0\n",
            "having_IPhaving_IP_Address     0\n",
            "URLURL_Length                  0\n",
            "Shortining_Service             0\n",
            "having_At_Symbol               0\n",
            "double_slash_redirecting       0\n",
            "Prefix_Suffix                  0\n",
            "having_Sub_Domain              0\n",
            "SSLfinal_State                 0\n",
            "Domain_registeration_length    0\n",
            "Favicon                        0\n",
            "port                           0\n",
            "HTTPS_token                    0\n",
            "Request_URL                    0\n",
            "URL_of_Anchor                  0\n",
            "Links_in_tags                  0\n",
            "SFH                            0\n",
            "Submitting_to_email            0\n",
            "Abnormal_URL                   0\n",
            "Redirect                       0\n",
            "on_mouseover                   0\n",
            "RightClick                     0\n",
            "popUpWidnow                    0\n",
            "Iframe                         0\n",
            "age_of_domain                  0\n",
            "DNSRecord                      0\n",
            "web_traffic                    0\n",
            "Page_Rank                      0\n",
            "Google_Index                   0\n",
            "Links_pointing_to_page         0\n",
            "Statistical_report             0\n",
            "Result                         0\n",
            "dtype: int64\n"
          ],
          "name": "stdout"
        }
      ]
    },
    {
      "cell_type": "markdown",
      "metadata": {
        "id": "nZPn1qT_hB52",
        "colab_type": "text"
      },
      "source": [
        "To View Correlation Matrix of the given data"
      ]
    },
    {
      "cell_type": "code",
      "metadata": {
        "id": "ARSvxWWbgrkg",
        "colab_type": "code",
        "colab": {
          "base_uri": "https://localhost:8080/",
          "height": 653
        },
        "outputId": "4cf4d110-8de2-428e-c236-d9d8d16d60cd"
      },
      "source": [
        "print(data.corr())"
      ],
      "execution_count": 10,
      "outputs": [
        {
          "output_type": "stream",
          "text": [
            "                                index  ...    Result\n",
            "index                        1.000000  ...  0.000978\n",
            "having_IPhaving_IP_Address  -0.388317  ...  0.094160\n",
            "URLURL_Length                0.006105  ...  0.057430\n",
            "Shortining_Service          -0.006281  ... -0.067966\n",
            "having_At_Symbol            -0.169478  ...  0.052948\n",
            "double_slash_redirecting    -0.003363  ... -0.038608\n",
            "Prefix_Suffix               -0.007340  ...  0.348606\n",
            "having_Sub_Domain            0.234091  ...  0.298323\n",
            "SSLfinal_State              -0.006682  ...  0.714741\n",
            "Domain_registeration_length -0.001180  ... -0.225789\n",
            "Favicon                      0.007293  ... -0.000280\n",
            "port                         0.001656  ...  0.036419\n",
            "HTTPS_token                  0.002916  ... -0.039854\n",
            "Request_URL                 -0.000862  ...  0.253372\n",
            "URL_of_Anchor               -0.005071  ...  0.692935\n",
            "Links_in_tags               -0.028865  ...  0.248229\n",
            "SFH                          0.085354  ...  0.221419\n",
            "Submitting_to_email          0.005828  ...  0.018249\n",
            "Abnormal_URL                 0.003228  ... -0.060488\n",
            "Redirect                     0.016804  ... -0.020113\n",
            "on_mouseover                 0.003649  ...  0.041838\n",
            "RightClick                  -0.005265  ...  0.012653\n",
            "popUpWidnow                  0.006515  ...  0.000086\n",
            "Iframe                       0.002533  ... -0.003394\n",
            "age_of_domain                0.115320  ...  0.121496\n",
            "DNSRecord                    0.400890  ...  0.075718\n",
            "web_traffic                 -0.014900  ...  0.346103\n",
            "Page_Rank                    0.065117  ...  0.104645\n",
            "Google_Index                -0.012527  ...  0.128950\n",
            "Links_pointing_to_page       0.002442  ...  0.032574\n",
            "Statistical_report           0.163799  ...  0.079857\n",
            "Result                       0.000978  ...  1.000000\n",
            "\n",
            "[32 rows x 32 columns]\n"
          ],
          "name": "stdout"
        }
      ]
    },
    {
      "cell_type": "markdown",
      "metadata": {
        "id": "OvoFbRoThJ72",
        "colab_type": "text"
      },
      "source": [
        "Generating HeatMap"
      ]
    },
    {
      "cell_type": "code",
      "metadata": {
        "id": "2d_ZCSWzhGtN",
        "colab_type": "code",
        "colab": {
          "base_uri": "https://localhost:8080/",
          "height": 696
        },
        "outputId": "ba7c0a91-233f-4a50-f31f-c1c16c1591c0"
      },
      "source": [
        "import seaborn as sns\n",
        "plt.figure(figsize =(8,8))\n",
        "sns.heatmap(data.corr())  "
      ],
      "execution_count": 11,
      "outputs": [
        {
          "output_type": "stream",
          "text": [
            "/usr/local/lib/python3.6/dist-packages/statsmodels/tools/_testing.py:19: FutureWarning: pandas.util.testing is deprecated. Use the functions in the public API at pandas.testing instead.\n",
            "  import pandas.util.testing as tm\n"
          ],
          "name": "stderr"
        },
        {
          "output_type": "execute_result",
          "data": {
            "text/plain": [
              "<matplotlib.axes._subplots.AxesSubplot at 0x7f5311b2ceb8>"
            ]
          },
          "metadata": {
            "tags": []
          },
          "execution_count": 11
        },
        {
          "output_type": "display_data",
          "data": {
            "image/png": "[encoded data removed]",
            "text/plain": [
              "<Figure size 576x576 with 2 Axes>"
            ]
          },
          "metadata": {
            "tags": [],
            "needs_background": "light"
          }
        }
      ]
    },
    {
      "cell_type": "markdown",
      "metadata": {
        "id": "SpjKr8GLh-Yf",
        "colab_type": "text"
      },
      "source": [
        "Finding The Mean of all other values and comparing with Target Value"
      ]
    },
    {
      "cell_type": "code",
      "metadata": {
        "id": "VS3xdhh_hpu_",
        "colab_type": "code",
        "colab": {
          "base_uri": "https://localhost:8080/",
          "height": 617
        },
        "outputId": "3115187f-8cb4-4c4f-9680-2d428b672842"
      },
      "source": [
        "print(data.corr()['Result'].sort_values())"
      ],
      "execution_count": 12,
      "outputs": [
        {
          "output_type": "stream",
          "text": [
            "Domain_registeration_length   -0.225789\n",
            "Shortining_Service            -0.067966\n",
            "Abnormal_URL                  -0.060488\n",
            "HTTPS_token                   -0.039854\n",
            "double_slash_redirecting      -0.038608\n",
            "Redirect                      -0.020113\n",
            "Iframe                        -0.003394\n",
            "Favicon                       -0.000280\n",
            "popUpWidnow                    0.000086\n",
            "index                          0.000978\n",
            "RightClick                     0.012653\n",
            "Submitting_to_email            0.018249\n",
            "Links_pointing_to_page         0.032574\n",
            "port                           0.036419\n",
            "on_mouseover                   0.041838\n",
            "having_At_Symbol               0.052948\n",
            "URLURL_Length                  0.057430\n",
            "DNSRecord                      0.075718\n",
            "Statistical_report             0.079857\n",
            "having_IPhaving_IP_Address     0.094160\n",
            "Page_Rank                      0.104645\n",
            "age_of_domain                  0.121496\n",
            "Google_Index                   0.128950\n",
            "SFH                            0.221419\n",
            "Links_in_tags                  0.248229\n",
            "Request_URL                    0.253372\n",
            "having_Sub_Domain              0.298323\n",
            "web_traffic                    0.346103\n",
            "Prefix_Suffix                  0.348606\n",
            "URL_of_Anchor                  0.692935\n",
            "SSLfinal_State                 0.714741\n",
            "Result                         1.000000\n",
            "Name: Result, dtype: float64\n"
          ],
          "name": "stdout"
        }
      ]
    },
    {
      "cell_type": "markdown",
      "metadata": {
        "id": "umHzjrz2iXqx",
        "colab_type": "text"
      },
      "source": [
        "Removing Unwanted Features"
      ]
    },
    {
      "cell_type": "markdown",
      "metadata": {
        "id": "UutlTZ4iids5",
        "colab_type": "text"
      },
      "source": [
        "Printing Features Length"
      ]
    },
    {
      "cell_type": "code",
      "metadata": {
        "id": "Z5Q2xwQxiNzZ",
        "colab_type": "code",
        "colab": {}
      },
      "source": [
        "data.drop(['Favicon','Iframe','Redirect','popUpWidnow','RightClick','Submitting_to_email'],axis=1,inplace=True)\n",
        "print(len(data.columns))\n"
      ],
      "execution_count": null,
      "outputs": []
    },
    {
      "cell_type": "markdown",
      "metadata": {
        "id": "ZJ0zR9rMikAm",
        "colab_type": "text"
      },
      "source": [
        "Prepare data for models"
      ]
    },
    {
      "cell_type": "markdown",
      "metadata": {
        "id": "8__bK295isaC",
        "colab_type": "text"
      },
      "source": [
        "Split the data as training and testing data - 70% train size, 30% test size"
      ]
    },
    {
      "cell_type": "code",
      "metadata": {
        "id": "m4a-QD8fivn_",
        "colab_type": "code",
        "colab": {}
      },
      "source": [
        "y = data['Result'].values\n",
        "X = data.drop(['Result'], axis = 1)\n",
        "from sklearn.metrics import accuracy_score,roc_curve,auc, confusion_matrix\n",
        "from sklearn import preprocessing\n",
        "from sklearn.model_selection import train_test_split\n",
        "X_train, X_test, y_train, y_test  = train_test_split(X, y, test_size = 0.3, random_state = None)"
      ],
      "execution_count": 16,
      "outputs": []
    },
    {
      "cell_type": "markdown",
      "metadata": {
        "id": "g0P5DwtCjZ9i",
        "colab_type": "text"
      },
      "source": [
        "Printing Sample of X and Y:"
      ]
    },
    {
      "cell_type": "code",
      "metadata": {
        "id": "OwufiJB0jdtq",
        "colab_type": "code",
        "colab": {
          "base_uri": "https://localhost:8080/",
          "height": 562
        },
        "outputId": "e33dfe25-9eb9-4da7-8516-1b0d3afb8346"
      },
      "source": [
        "print(\"X_train\",X_train)\n",
        "print(\"X_test\",X_test)\n",
        "print(\"Y_train\",y_train)\n",
        "print(\"Y_test\",y_test)"
      ],
      "execution_count": 22,
      "outputs": [
        {
          "output_type": "stream",
          "text": [
            "X_train       index  ...  Statistical_report\n",
            "4824   4825  ...                   1\n",
            "7377   7378  ...                   1\n",
            "9524   9525  ...                   1\n",
            "1765   1766  ...                   1\n",
            "2931   2932  ...                  -1\n",
            "...     ...  ...                 ...\n",
            "5143   5144  ...                   1\n",
            "1753   1754  ...                   1\n",
            "6822   6823  ...                   1\n",
            "1601   1602  ...                   1\n",
            "5827   5828  ...                   1\n",
            "\n",
            "[7738 rows x 31 columns]\n",
            "X_test        index  ...  Statistical_report\n",
            "4203    4204  ...                   1\n",
            "1664    1665  ...                   1\n",
            "7240    7241  ...                   1\n",
            "1880    1881  ...                  -1\n",
            "2393    2394  ...                   1\n",
            "...      ...  ...                 ...\n",
            "10690  10691  ...                   1\n",
            "6620    6621  ...                   1\n",
            "3264    3265  ...                   1\n",
            "10586  10587  ...                   1\n",
            "3702    3703  ...                   1\n",
            "\n",
            "[3317 rows x 31 columns]\n",
            "Y_train [ 1  1 -1 ... -1  1  1]\n",
            "Y_test [-1 -1  1 ... -1  1 -1]\n"
          ],
          "name": "stdout"
        }
      ]
    },
    {
      "cell_type": "markdown",
      "metadata": {
        "id": "iNU12h9lkavd",
        "colab_type": "text"
      },
      "source": [
        "Printing Length of Training and Testing DataSets"
      ]
    },
    {
      "cell_type": "code",
      "metadata": {
        "id": "GaDMBc5EkMcx",
        "colab_type": "code",
        "colab": {
          "base_uri": "https://localhost:8080/",
          "height": 53
        },
        "outputId": "e7c56bdd-4f0d-48be-8ce2-e2e45edcdc7a"
      },
      "source": [
        "print(\"X_train\",len(X_train))\n",
        "print(\"X_test\",len(X_test))\n"
      ],
      "execution_count": 26,
      "outputs": [
        {
          "output_type": "stream",
          "text": [
            "X_train 7738\n",
            "X_test 3317\n"
          ],
          "name": "stdout"
        }
      ]
    },
    {
      "cell_type": "markdown",
      "metadata": {
        "id": "8UiTWhHLix8M",
        "colab_type": "text"
      },
      "source": [
        "Classification using Random Forest Classifier"
      ]
    },
    {
      "cell_type": "code",
      "metadata": {
        "id": "9NHL4iEXi3bs",
        "colab_type": "code",
        "colab": {}
      },
      "source": [
        "from sklearn.ensemble import RandomForestClassifier\n",
        "rfc = RandomForestClassifier()\n",
        "rfc = rfc.fit(X_train,y_train)\n",
        "prediction = rfc.predict(X_test)"
      ],
      "execution_count": 17,
      "outputs": []
    },
    {
      "cell_type": "markdown",
      "metadata": {
        "id": "m6aU0XFei7ZL",
        "colab_type": "text"
      },
      "source": [
        "Printing Accuracy of the Random Forest Algorithm"
      ]
    },
    {
      "cell_type": "code",
      "metadata": {
        "id": "wvzxnsSeknuu",
        "colab_type": "code",
        "colab": {
          "base_uri": "https://localhost:8080/",
          "height": 35
        },
        "outputId": "c8ddbd96-4e35-49d5-f430-a2f82d56a208"
      },
      "source": [
        "print(\"Accuracy with RF classifier:\",accuracy_score(y_test, prediction)) \n",
        "fpr,tpr,thresh = roc_curve(y_test,prediction)      \n",
        "roc_auc = accuracy_score(y_test,prediction) "
      ],
      "execution_count": 27,
      "outputs": [
        {
          "output_type": "stream",
          "text": [
            "Accuracy with RF classifier: 0.9650286403376545\n"
          ],
          "name": "stdout"
        }
      ]
    },
    {
      "cell_type": "markdown",
      "metadata": {
        "id": "B256f7gRp7NW",
        "colab_type": "text"
      },
      "source": [
        "Confusion Matrix\n"
      ]
    },
    {
      "cell_type": "code",
      "metadata": {
        "id": "7eU1rJANpQyC",
        "colab_type": "code",
        "colab": {
          "base_uri": "https://localhost:8080/",
          "height": 72
        },
        "outputId": "4f65f726-4508-4ae7-99e2-6f4d2e346dbf"
      },
      "source": [
        "from sklearn.metrics import confusion_matrix\n",
        "print(\"Confusion Matrix is:\")\n",
        "confusion_matrixs=confusion_matrix(y_test,prediction)\n",
        "print(confusion_matrix(y_test,prediction))"
      ],
      "execution_count": 35,
      "outputs": [
        {
          "output_type": "stream",
          "text": [
            "Confusion Matrix is:\n",
            "[[1441   64]\n",
            " [  52 1760]]\n"
          ],
          "name": "stdout"
        }
      ]
    },
    {
      "cell_type": "code",
      "metadata": {
        "id": "XUXBeB7jrNju",
        "colab_type": "code",
        "colab": {
          "base_uri": "https://localhost:8080/",
          "height": 283
        },
        "outputId": "80b37f1d-ac44-494e-bb10-969c572bbcfb"
      },
      "source": [
        "import seaborn as sns\n",
        "sns.heatmap(confusion_matrixs, annot=True)"
      ],
      "execution_count": 36,
      "outputs": [
        {
          "output_type": "execute_result",
          "data": {
            "text/plain": [
              "<matplotlib.axes._subplots.AxesSubplot at 0x7f52ff9ff160>"
            ]
          },
          "metadata": {
            "tags": []
          },
          "execution_count": 36
        },
        {
          "output_type": "display_data",
          "data": {
            "image/png": "[encoded data removed]",
            "text/plain": [
              "<Figure size 432x288 with 2 Axes>"
            ]
          },
          "metadata": {
            "tags": [],
            "needs_background": "light"
          }
        }
      ]
    },
    {
      "cell_type": "markdown",
      "metadata": {
        "id": "GePtTOZOqv7u",
        "colab_type": "text"
      },
      "source": [
        "Plot ROC curve"
      ]
    },
    {
      "cell_type": "code",
      "metadata": {
        "id": "yoJFpWMYquvx",
        "colab_type": "code",
        "colab": {
          "base_uri": "https://localhost:8080/",
          "height": 283
        },
        "outputId": "8385585a-d53c-4b83-e3f6-03e13263b82f"
      },
      "source": [
        "fpr,tpr,thresh = roc_curve(y_test,prediction)      \n",
        "roc_auc = accuracy_score(y_test,prediction)\n",
        "plt.plot(fpr,tpr,'g',label = 'Random Forest')\n",
        "plt.legend(\"Random Forest\", loc='lower right')\n",
        "plt.legend(loc='lower right')"
      ],
      "execution_count": 32,
      "outputs": [
        {
          "output_type": "execute_result",
          "data": {
            "text/plain": [
              "<matplotlib.legend.Legend at 0x7f53077819e8>"
            ]
          },
          "metadata": {
            "tags": []
          },
          "execution_count": 32
        },
        {
          "output_type": "display_data",
          "data": {
            "image/png": "[encoded data removed]",
            "text/plain": [
              "<Figure size 432x288 with 1 Axes>"
            ]
          },
          "metadata": {
            "tags": [],
            "needs_background": "light"
          }
        }
      ]
    },
    {
      "cell_type": "code",
      "metadata": {
        "id": "qUxk99Wmr983",
        "colab_type": "code",
        "colab": {
          "base_uri": "https://localhost:8080/",
          "height": 283
        },
        "outputId": "68847f20-6903-495e-ff2f-dc908ac32206"
      },
      "source": [
        "sns.heatmap(confusion_matrixs/np.sum(confusion_matrixs), annot=True, \n",
        "            fmt='.2%', cmap='Blues')"
      ],
      "execution_count": 38,
      "outputs": [
        {
          "output_type": "execute_result",
          "data": {
            "text/plain": [
              "<matplotlib.axes._subplots.AxesSubplot at 0x7f52ff96d278>"
            ]
          },
          "metadata": {
            "tags": []
          },
          "execution_count": 38
        },
        {
          "output_type": "display_data",
          "data": {
            "image/png": "[encoded data removed]",
            "text/plain": [
              "<Figure size 432x288 with 2 Axes>"
            ]
          },
          "metadata": {
            "tags": [],
            "needs_background": "light"
          }
        }
      ]
    }
  ]
}